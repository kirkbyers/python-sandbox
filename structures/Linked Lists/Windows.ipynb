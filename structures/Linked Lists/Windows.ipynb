{
 "cells": [
  {
   "cell_type": "code",
   "execution_count": 72,
   "metadata": {
    "collapsed": true
   },
   "outputs": [],
   "source": [
    "inp = open('./input2.txt', 'r')\n",
    "N, K = (int(x) for x in inp.readline().split(' '))\n",
    "salePrices = [int(x) for x in inp.readline(). split(' ')]\n",
    "inp.close()"
   ]
  },
  {
   "cell_type": "code",
   "execution_count": 73,
   "metadata": {
    "collapsed": false
   },
   "outputs": [],
   "source": [
    "class Window(object):\n",
    "    def __init__(self, inp, windowSize):\n",
    "        self.bodyValue = 0\n",
    "        self.head = None\n",
    "        self.tail = Node(0, inp[0], inp[1])\n",
    "        for i in range(2,windowSize):\n",
    "            self.pushUnit(inp[i])\n",
    "        \n",
    "    def value(self):\n",
    "        if self.head == None:\n",
    "            return self.tail.value\n",
    "        return self.bodyValue + self.head.value + self.tail.value\n",
    "    \n",
    "    def pushUnit(self, unit):\n",
    "        if unit == self.tail.endUnit and self.tail.direction == 0:\n",
    "            self.tail.grow(unit)\n",
    "        elif unit > self.tail.endUnit and self.tail.direction == 1:\n",
    "            self.tail.grow(unit)\n",
    "        elif unit < self.tail.endUnit and self.tail.direction == -1:\n",
    "            self.tail.grow(unit)\n",
    "        else:\n",
    "            newNode = Node(self.tail.end, self.tail.endUnit, unit)\n",
    "            if self.head == None:\n",
    "                self.tail.next = newNode\n",
    "                self.head = self.tail\n",
    "                self.tail = newNode\n",
    "            else:\n",
    "                self.bodyValue += self.tail.value\n",
    "                self.tail.next = newNode\n",
    "                self.tail = newNode\n",
    "            \n",
    "    def popUnit(self):\n",
    "        self.head.shrink()\n",
    "        if self.head.length() <= 0:\n",
    "            self.head = self.head.next\n",
    "            self.bodyValue -= self.head.value\n",
    "            \n",
    "        \n",
    "class Node(object):\n",
    "    def __init__(self, startIndex, startUnit, endUnit):\n",
    "        if startUnit > endUnit:\n",
    "            self.direction = -1\n",
    "        elif startUnit < endUnit:\n",
    "            self.direction = 1\n",
    "        elif startUnit == endUnit:\n",
    "            self.direction = 0\n",
    "        \n",
    "        self.start = startIndex\n",
    "\n",
    "        self.end = startIndex + 1\n",
    "        self.endUnit = endUnit\n",
    "        \n",
    "        self.value = self.direction\n",
    "        \n",
    "        self.next = None # Node\n",
    "        \n",
    "    def length(self):\n",
    "        return self.end - self.start\n",
    "    \n",
    "    def grow(self, unit):\n",
    "        self.end += 1\n",
    "        self.endUnit = unit\n",
    "        self.value += self.length() * self.direction\n",
    "        \n",
    "    def shrink(self):\n",
    "        self.value -= self.length() * self.direction\n",
    "        self.start += 1\n",
    "        "
   ]
  },
  {
   "cell_type": "code",
   "execution_count": null,
   "metadata": {
    "collapsed": true
   },
   "outputs": [],
   "source": []
  }
 ],
 "metadata": {
  "kernelspec": {
   "display_name": "Python 3",
   "language": "python",
   "name": "python3"
  },
  "language_info": {
   "codemirror_mode": {
    "name": "ipython",
    "version": 3
   },
   "file_extension": ".py",
   "mimetype": "text/x-python",
   "name": "python",
   "nbconvert_exporter": "python",
   "pygments_lexer": "ipython3",
   "version": "3.6.0"
  }
 },
 "nbformat": 4,
 "nbformat_minor": 2
}
