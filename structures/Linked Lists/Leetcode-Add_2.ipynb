{
 "cells": [
  {
   "cell_type": "code",
   "execution_count": 1,
   "metadata": {
    "collapsed": true
   },
   "outputs": [],
   "source": [
    "class ListNode(object):\n",
    "    def __init__(self, x):\n",
    "        self.val = x\n",
    "        self.next = None"
   ]
  },
  {
   "cell_type": "code",
   "execution_count": 2,
   "metadata": {
    "collapsed": false
   },
   "outputs": [],
   "source": [
    "class Solution(object):\n",
    "    def addTwoNumbers(self, l1, l2):\n",
    "        \"\"\"\n",
    "        :type l1: ListNode\n",
    "        :type l2: ListNode\n",
    "        :rtype: ListNode\n",
    "        \"\"\"\n",
    "        listNode1 = l1\n",
    "        listNode2 = l2\n",
    "        valueSum = listNode1.val + listNode2.val\n",
    "        remainder = valueSum // 10\n",
    "        resultNode = ListNode(valueSum % 10)\n",
    "        headResultNode = resultNode\n",
    "        \n",
    "        while listNode1.next or listNode2.next:\n",
    "            listNode1 = listNode1.next or ListNode(0)\n",
    "            listNode2 = listNode2.next or ListNode(0)\n",
    "            valueSum = listNode1.val + listNode2.val + remainder\n",
    "            remainder = valueSum // 10\n",
    "            \n",
    "            newResultNode = ListNode(valueSum % 10)\n",
    "            resultNode.next = newResultNode\n",
    "            resultNode = newResultNode\n",
    "            \n",
    "        if remainder > 0:\n",
    "            resultNode.next = ListNode(remainder)\n",
    "        return headResultNode\n",
    "            \n",
    "        "
   ]
  },
  {
   "cell_type": "code",
   "execution_count": null,
   "metadata": {
    "collapsed": false
   },
   "outputs": [],
   "source": []
  }
 ],
 "metadata": {
  "kernelspec": {
   "display_name": "Python 3",
   "language": "python",
   "name": "python3"
  },
  "language_info": {
   "codemirror_mode": {
    "name": "ipython",
    "version": 3
   },
   "file_extension": ".py",
   "mimetype": "text/x-python",
   "name": "python",
   "nbconvert_exporter": "python",
   "pygments_lexer": "ipython3",
   "version": "3.4.3"
  }
 },
 "nbformat": 4,
 "nbformat_minor": 2
}
