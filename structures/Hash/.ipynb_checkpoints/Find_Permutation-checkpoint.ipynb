{
 "cells": [
  {
   "cell_type": "code",
   "execution_count": 1,
   "metadata": {
    "collapsed": true
   },
   "outputs": [],
   "source": [
    "stringA = 'jonesivertylikenpopjaw'\n",
    "subStringA = 'en'"
   ]
  },
  {
   "cell_type": "code",
   "execution_count": 2,
   "metadata": {
    "collapsed": false
   },
   "outputs": [],
   "source": [
    "def hasPermutation (searchString, subString):\n",
    "    subHash = {}\n",
    "    distance = 0\n",
    "\n",
    "    for subChar in subString:\n",
    "        if subChar in subHash:\n",
    "            subHash[subChar] += 1 \n",
    "        else:\n",
    "            subHash[subChar] = 0\n",
    "    \n",
    "    searchHash = subHash\n",
    "    for index, searchChar in enumerate(searchString):\n",
    "        if searchChar in searchHash:\n",
    "            distance += 1\n",
    "            searchHash[searchChar] -= 1\n",
    "        else:\n",
    "            distance = 0\n",
    "            searchHash = subHash\n",
    "        \n",
    "        if distance == len(subString) - 1:\n",
    "            return index"
   ]
  },
  {
   "cell_type": "code",
   "execution_count": 3,
   "metadata": {
    "collapsed": false
   },
   "outputs": [
    {
     "name": "stdout",
     "output_type": "stream",
     "text": [
      "2\n"
     ]
    }
   ],
   "source": [
    "print(hasPermutation(stringA, subStringA))"
   ]
  }
 ],
 "metadata": {
  "kernelspec": {
   "display_name": "Python 3",
   "language": "python",
   "name": "python3"
  },
  "language_info": {
   "codemirror_mode": {
    "name": "ipython",
    "version": 3
   },
   "file_extension": ".py",
   "mimetype": "text/x-python",
   "name": "python",
   "nbconvert_exporter": "python",
   "pygments_lexer": "ipython3",
   "version": "3.6.0"
  }
 },
 "nbformat": 4,
 "nbformat_minor": 2
}
