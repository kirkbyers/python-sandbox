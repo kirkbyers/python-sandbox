{
 "cells": [
  {
   "cell_type": "code",
   "execution_count": 1,
   "metadata": {
    "collapsed": true,
    "deletable": true,
    "editable": true
   },
   "outputs": [],
   "source": [
    "stringA = 'jonesivertylikenpopjaw'\n",
    "subStringA = 'en'"
   ]
  },
  {
   "cell_type": "code",
   "execution_count": 2,
   "metadata": {
    "collapsed": false,
    "deletable": true,
    "editable": true
   },
   "outputs": [],
   "source": [
    "def hasPermutation (searchString, subString):\n",
    "    subHash = {}\n",
    "    distance = 0\n",
    "\n",
    "    for subChar in subString:\n",
    "        if subChar in subHash:\n",
    "            subHash[subChar] += 1 \n",
    "        else:\n",
    "            subHash[subChar] = 1\n",
    "    \n",
    "    searchHash = subHash\n",
    "    for idx, searchChar in enumerate(searchString):\n",
    "        if searchChar in searchHash and searchHash[searchChar] > 0:\n",
    "            distance += 1\n",
    "            searchHash[searchChar] -= 1\n",
    "        else:\n",
    "            distance = 0\n",
    "            searchHash = subHash\n",
    "        \n",
    "        if distance == len(subString):\n",
    "            return idx - distance + 1\n",
    "    \n",
    "    return False"
   ]
  },
  {
   "cell_type": "code",
   "execution_count": 3,
   "metadata": {
    "collapsed": false,
    "deletable": true,
    "editable": true
   },
   "outputs": [
    {
     "name": "stdout",
     "output_type": "stream",
     "text": [
      "n\n"
     ]
    }
   ],
   "source": [
    "print(stringA[hasPermutation(stringA, subStringA)])"
   ]
  },
  {
   "cell_type": "code",
   "execution_count": 4,
   "metadata": {
    "collapsed": false
   },
   "outputs": [
    {
     "name": "stdout",
     "output_type": "stream",
     "text": [
      "0\n",
      "False\n",
      "0\n",
      "False\n"
     ]
    }
   ],
   "source": [
    "stringB = 'kokokokokokokokokokoko'\n",
    "subB1 = 'ko'\n",
    "subB2 = 'kokokokokokokokokokokokoko'\n",
    "subB3 = 'kkokokokoko'\n",
    "subB4 = 'kkokokokokokk'\n",
    "print(hasPermutation(stringB, subB1))\n",
    "print(hasPermutation(stringB, subB2))\n",
    "print(hasPermutation(stringB, subB3))\n",
    "print(hasPermutation(stringB, subB4))"
   ]
  },
  {
   "cell_type": "code",
   "execution_count": null,
   "metadata": {
    "collapsed": true
   },
   "outputs": [],
   "source": []
  }
 ],
 "metadata": {
  "kernelspec": {
   "display_name": "Python 3",
   "language": "python",
   "name": "python3"
  },
  "language_info": {
   "codemirror_mode": {
    "name": "ipython",
    "version": 3
   },
   "file_extension": ".py",
   "mimetype": "text/x-python",
   "name": "python",
   "nbconvert_exporter": "python",
   "pygments_lexer": "ipython3",
   "version": "3.6.0"
  }
 },
 "nbformat": 4,
 "nbformat_minor": 2
}
