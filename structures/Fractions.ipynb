{
 "cells": [
  {
   "cell_type": "code",
   "execution_count": 1,
   "metadata": {
    "collapsed": false,
    "deletable": true,
    "editable": true
   },
   "outputs": [],
   "source": [
    "def find_GCD (inp_a, inp_b):\n",
    "    while inp_a % inp_b != 0:\n",
    "        old_a = inp_a\n",
    "        old_b = inp_b\n",
    "        \n",
    "        inp_a = old_b\n",
    "        inp_b = old_a % old_b\n",
    "    return inp_b"
   ]
  },
  {
   "cell_type": "code",
   "execution_count": 2,
   "metadata": {
    "collapsed": false,
    "deletable": true,
    "editable": true
   },
   "outputs": [
    {
     "name": "stdout",
     "output_type": "stream",
     "text": [
      "2\n",
      "11\n",
      "1\n"
     ]
    }
   ],
   "source": [
    "print find_GCD(8, 6)\n",
    "print find_GCD(99,11)\n",
    "print find_GCD(7,9)"
   ]
  },
  {
   "cell_type": "code",
   "execution_count": 3,
   "metadata": {
    "collapsed": false,
    "deletable": true,
    "editable": true
   },
   "outputs": [],
   "source": [
    "class Fraction:\n",
    "    \n",
    "    def __init__ (self, top, bot):\n",
    "        self.num = top\n",
    "        self.den = bot\n",
    "        \n",
    "    def __str__ (self):\n",
    "        return str(self.num) + '/' + str(self.den)\n",
    "    \n",
    "    def __add__ (self, other):\n",
    "        GCD = find_GCD(self.den, other.den)\n",
    "        new_num = (self.num * other.den) + (other.num * self.den)\n",
    "        new_den = self.den * other.den\n",
    "        return Fraction(new_num//GCD, new_den//GCD)\n",
    "    \n",
    "    def __eq__ (self, other):\n",
    "        new_self = self.num * other.den\n",
    "        new_other = other.num * self.den\n",
    "        return new_self == new_other\n",
    "    "
   ]
  },
  {
   "cell_type": "code",
   "execution_count": 4,
   "metadata": {
    "collapsed": false,
    "deletable": true,
    "editable": true
   },
   "outputs": [
    {
     "name": "stdout",
     "output_type": "stream",
     "text": [
      "1/8\n"
     ]
    }
   ],
   "source": [
    "f1 = Fraction(1,8)\n",
    "print f1"
   ]
  },
  {
   "cell_type": "code",
   "execution_count": 5,
   "metadata": {
    "collapsed": false,
    "deletable": true,
    "editable": true
   },
   "outputs": [
    {
     "name": "stdout",
     "output_type": "stream",
     "text": [
      "3/4\n"
     ]
    }
   ],
   "source": [
    "f2 = Fraction(3,4)\n",
    "print f2"
   ]
  },
  {
   "cell_type": "code",
   "execution_count": 6,
   "metadata": {
    "collapsed": false,
    "deletable": true,
    "editable": true
   },
   "outputs": [
    {
     "name": "stdout",
     "output_type": "stream",
     "text": [
      "7/8\n"
     ]
    }
   ],
   "source": [
    "f3 = f1+f2\n",
    "print f3"
   ]
  },
  {
   "cell_type": "code",
   "execution_count": 7,
   "metadata": {
    "collapsed": false,
    "deletable": true,
    "editable": true
   },
   "outputs": [
    {
     "name": "stdout",
     "output_type": "stream",
     "text": [
      "True\n",
      "False\n"
     ]
    }
   ],
   "source": [
    "f4 = f2 + f1\n",
    "print f3 == f4\n",
    "print f2 == f4"
   ]
  },
  {
   "cell_type": "code",
   "execution_count": null,
   "metadata": {
    "collapsed": true,
    "deletable": true,
    "editable": true
   },
   "outputs": [],
   "source": []
  }
 ],
 "metadata": {
  "kernelspec": {
   "display_name": "Python 3",
   "language": "python",
   "name": "python3"
  },
  "language_info": {
   "codemirror_mode": {
    "name": "ipython",
    "version": 3
   },
   "file_extension": ".py",
   "mimetype": "text/x-python",
   "name": "python",
   "nbconvert_exporter": "python",
   "pygments_lexer": "ipython3",
   "version": "3.6.0"
  }
 },
 "nbformat": 4,
 "nbformat_minor": 2
}
